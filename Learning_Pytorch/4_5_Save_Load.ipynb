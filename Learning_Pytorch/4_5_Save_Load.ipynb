{
 "cells": [
  {
   "cell_type": "markdown",
   "metadata": {},
   "source": [
    "# 读写`Tensor`\n",
    "\n",
    "我们可以直接使用`save`函数和`load`函数分别存储和读取`Tensor`。`save`使用Python的pickle实用程序将对象进行序列化，然后将序列化的对象保存到disk，使用`save`可以保存各种对象,包括模型、张量和字典等。而`laod`使用pickle unpickle工具将pickle的对象文件反序列化为内存。"
   ]
  },
  {
   "cell_type": "code",
   "execution_count": 1,
   "metadata": {},
   "outputs": [],
   "source": [
    "import torch\n",
    "import torch.nn as nn\n",
    "x = torch.ones(10,10)\n",
    "torch.save(x, 'torch_tensor.pt')"
   ]
  },
  {
   "cell_type": "code",
   "execution_count": 2,
   "metadata": {},
   "outputs": [],
   "source": [
    "x2 = torch.load('torch_tensor.pt')"
   ]
  },
  {
   "cell_type": "code",
   "execution_count": 3,
   "metadata": {},
   "outputs": [
    {
     "name": "stdout",
     "output_type": "stream",
     "text": [
      "tensor([[1., 1., 1., 1., 1., 1., 1., 1., 1., 1.],\n",
      "        [1., 1., 1., 1., 1., 1., 1., 1., 1., 1.],\n",
      "        [1., 1., 1., 1., 1., 1., 1., 1., 1., 1.],\n",
      "        [1., 1., 1., 1., 1., 1., 1., 1., 1., 1.],\n",
      "        [1., 1., 1., 1., 1., 1., 1., 1., 1., 1.],\n",
      "        [1., 1., 1., 1., 1., 1., 1., 1., 1., 1.],\n",
      "        [1., 1., 1., 1., 1., 1., 1., 1., 1., 1.],\n",
      "        [1., 1., 1., 1., 1., 1., 1., 1., 1., 1.],\n",
      "        [1., 1., 1., 1., 1., 1., 1., 1., 1., 1.],\n",
      "        [1., 1., 1., 1., 1., 1., 1., 1., 1., 1.]])\n"
     ]
    }
   ],
   "source": [
    "print(x2)"
   ]
  },
  {
   "cell_type": "markdown",
   "metadata": {},
   "source": [
    "## 保存多个数值"
   ]
  },
  {
   "cell_type": "code",
   "execution_count": 4,
   "metadata": {},
   "outputs": [
    {
     "name": "stdout",
     "output_type": "stream",
     "text": [
      "tensor([[-2.5419, -0.7828,  2.2660],\n",
      "        [ 1.4686,  1.2446,  0.2236],\n",
      "        [-1.9682, -0.5037,  0.7953],\n",
      "        [ 1.4887, -0.9525,  1.2626],\n",
      "        [ 1.3031, -0.4794, -0.8049],\n",
      "        [-0.3305, -0.4776,  1.4256],\n",
      "        [-0.6929, -0.5186,  0.5603],\n",
      "        [-0.3428,  1.8788, -2.9109],\n",
      "        [-0.9581,  0.8089, -2.0876],\n",
      "        [ 1.3026,  0.3579,  0.2294]])\n"
     ]
    }
   ],
   "source": [
    "y = torch.randn(10,3)\n",
    "print(y)"
   ]
  },
  {
   "cell_type": "markdown",
   "metadata": {},
   "source": [
    "## 保存 tensor list"
   ]
  },
  {
   "cell_type": "code",
   "execution_count": 5,
   "metadata": {},
   "outputs": [
    {
     "name": "stdout",
     "output_type": "stream",
     "text": [
      "[tensor([[1., 1., 1., 1., 1., 1., 1., 1., 1., 1.],\n",
      "        [1., 1., 1., 1., 1., 1., 1., 1., 1., 1.],\n",
      "        [1., 1., 1., 1., 1., 1., 1., 1., 1., 1.],\n",
      "        [1., 1., 1., 1., 1., 1., 1., 1., 1., 1.],\n",
      "        [1., 1., 1., 1., 1., 1., 1., 1., 1., 1.],\n",
      "        [1., 1., 1., 1., 1., 1., 1., 1., 1., 1.],\n",
      "        [1., 1., 1., 1., 1., 1., 1., 1., 1., 1.],\n",
      "        [1., 1., 1., 1., 1., 1., 1., 1., 1., 1.],\n",
      "        [1., 1., 1., 1., 1., 1., 1., 1., 1., 1.],\n",
      "        [1., 1., 1., 1., 1., 1., 1., 1., 1., 1.]]), tensor([[-2.5419, -0.7828,  2.2660],\n",
      "        [ 1.4686,  1.2446,  0.2236],\n",
      "        [-1.9682, -0.5037,  0.7953],\n",
      "        [ 1.4887, -0.9525,  1.2626],\n",
      "        [ 1.3031, -0.4794, -0.8049],\n",
      "        [-0.3305, -0.4776,  1.4256],\n",
      "        [-0.6929, -0.5186,  0.5603],\n",
      "        [-0.3428,  1.8788, -2.9109],\n",
      "        [-0.9581,  0.8089, -2.0876],\n",
      "        [ 1.3026,  0.3579,  0.2294]])]\n"
     ]
    }
   ],
   "source": [
    "torch.save([x2,y], 'torch_tensor.pt')\n",
    "tensor_list = torch.load('torch_tensor.pt')\n",
    "print(tensor_list)"
   ]
  },
  {
   "cell_type": "markdown",
   "metadata": {},
   "source": [
    "## 保存 tensor dict"
   ]
  },
  {
   "cell_type": "code",
   "execution_count": 6,
   "metadata": {},
   "outputs": [
    {
     "data": {
      "text/plain": [
       "{'x': tensor([[1., 1., 1., 1., 1., 1., 1., 1., 1., 1.],\n",
       "         [1., 1., 1., 1., 1., 1., 1., 1., 1., 1.],\n",
       "         [1., 1., 1., 1., 1., 1., 1., 1., 1., 1.],\n",
       "         [1., 1., 1., 1., 1., 1., 1., 1., 1., 1.],\n",
       "         [1., 1., 1., 1., 1., 1., 1., 1., 1., 1.],\n",
       "         [1., 1., 1., 1., 1., 1., 1., 1., 1., 1.],\n",
       "         [1., 1., 1., 1., 1., 1., 1., 1., 1., 1.],\n",
       "         [1., 1., 1., 1., 1., 1., 1., 1., 1., 1.],\n",
       "         [1., 1., 1., 1., 1., 1., 1., 1., 1., 1.],\n",
       "         [1., 1., 1., 1., 1., 1., 1., 1., 1., 1.]]),\n",
       " 'y': tensor([[-2.5419, -0.7828,  2.2660],\n",
       "         [ 1.4686,  1.2446,  0.2236],\n",
       "         [-1.9682, -0.5037,  0.7953],\n",
       "         [ 1.4887, -0.9525,  1.2626],\n",
       "         [ 1.3031, -0.4794, -0.8049],\n",
       "         [-0.3305, -0.4776,  1.4256],\n",
       "         [-0.6929, -0.5186,  0.5603],\n",
       "         [-0.3428,  1.8788, -2.9109],\n",
       "         [-0.9581,  0.8089, -2.0876],\n",
       "         [ 1.3026,  0.3579,  0.2294]])}"
      ]
     },
     "execution_count": 6,
     "metadata": {},
     "output_type": "execute_result"
    }
   ],
   "source": [
    "torch.save({'x': x2, 'y': y}, 'xy_dict.pt')\n",
    "xy = torch.load('xy_dict.pt')\n",
    "xy"
   ]
  },
  {
   "cell_type": "markdown",
   "metadata": {},
   "source": [
    "# 读写模型 保存读取Models 两种方式，保存参数数据，直接保存整个模型，包括结构。\n",
    "\n",
    "## State_dict\n",
    "在PyTorch中，`Module`的可学习参数(即权重和偏差)，模块模型包含在参数中(通过`model.parameters()`访问)。`state_dict`是一个从参数名称隐射到参数`Tesnor`的字典对象。"
   ]
  },
  {
   "cell_type": "code",
   "execution_count": 11,
   "metadata": {},
   "outputs": [
    {
     "name": "stdout",
     "output_type": "stream",
     "text": [
      "Sequential(\n",
      "  (0): Linear(in_features=16, out_features=8, bias=True)\n",
      "  (1): Linear(in_features=8, out_features=4, bias=True)\n",
      "  (2): Linear(in_features=4, out_features=1, bias=True)\n",
      ")\n"
     ]
    }
   ],
   "source": [
    "net = nn.Sequential(nn.Linear(16,8), nn.Linear(8,4), nn.Linear(4,1))\n",
    "print(net)"
   ]
  },
  {
   "cell_type": "code",
   "execution_count": 13,
   "metadata": {},
   "outputs": [
    {
     "name": "stdout",
     "output_type": "stream",
     "text": [
      "OrderedDict([('0.weight', tensor([[-0.1339,  0.2346,  0.0192,  0.1139,  0.0898,  0.1516,  0.0913, -0.0144,\n",
      "          0.0050,  0.2099,  0.1162,  0.2429,  0.1038, -0.2080, -0.2071, -0.0356],\n",
      "        [ 0.1361,  0.1636,  0.1937, -0.1632,  0.1032, -0.1234,  0.2356, -0.1315,\n",
      "          0.1571,  0.2253,  0.2193,  0.0250, -0.1944, -0.2218,  0.1438,  0.0060],\n",
      "        [-0.0194, -0.0117, -0.1306, -0.0590, -0.2017, -0.0871, -0.0803,  0.0759,\n",
      "         -0.1303, -0.0033, -0.2128,  0.1022, -0.2262,  0.2253,  0.0854, -0.0593],\n",
      "        [ 0.0277,  0.1002,  0.1903,  0.0194,  0.0548, -0.0804,  0.2014,  0.1247,\n",
      "         -0.1616,  0.0190, -0.0128, -0.0827, -0.0739,  0.0033, -0.1306,  0.1938],\n",
      "        [ 0.1922, -0.1214,  0.2355,  0.2170,  0.1320, -0.0643, -0.1851, -0.1908,\n",
      "          0.0061,  0.0805,  0.2114, -0.0127, -0.2417, -0.0939, -0.0955,  0.1746],\n",
      "        [-0.0571, -0.0597,  0.2226,  0.2278, -0.1634, -0.1866,  0.1152,  0.1031,\n",
      "          0.2134, -0.1114, -0.0497, -0.1728,  0.2286,  0.1942,  0.2171,  0.0027],\n",
      "        [-0.0174, -0.1859,  0.2282, -0.0783, -0.2173,  0.0952, -0.0679, -0.1710,\n",
      "          0.0917, -0.1912, -0.2221,  0.2396, -0.1851, -0.1036,  0.1936,  0.1623],\n",
      "        [ 0.1417, -0.2182,  0.0360,  0.2471, -0.1193, -0.2058, -0.2288,  0.1111,\n",
      "         -0.2115,  0.0423, -0.0548, -0.1516, -0.1620, -0.1206,  0.1859,  0.0065]])), ('0.bias', tensor([ 0.0526,  0.1256,  0.0587, -0.0222,  0.1649, -0.1559,  0.0554, -0.2115])), ('1.weight', tensor([[ 0.1427,  0.2523,  0.0909, -0.2195,  0.1685,  0.1716,  0.2912,  0.1260],\n",
      "        [ 0.3344,  0.0394,  0.2337, -0.1531, -0.3190, -0.1787, -0.3242, -0.0948],\n",
      "        [-0.0466,  0.0965, -0.1543, -0.1577,  0.2914,  0.1891, -0.0404,  0.1411],\n",
      "        [-0.2931, -0.2295,  0.2286,  0.1248, -0.1658, -0.1237, -0.0851,  0.1672]])), ('1.bias', tensor([-0.2098,  0.2049, -0.1736, -0.0375])), ('2.weight', tensor([[ 0.2323, -0.1348,  0.2386,  0.0373]])), ('2.bias', tensor([0.2667]))])\n",
      "tensor([[ 0.0910],\n",
      "        [ 0.2001],\n",
      "        [ 0.3428],\n",
      "        [ 0.1315],\n",
      "        [-0.1897],\n",
      "        [ 0.0271],\n",
      "        [ 0.1569],\n",
      "        [ 0.1479],\n",
      "        [ 0.1182],\n",
      "        [ 0.2539]], grad_fn=<AddmmBackward>)\n"
     ]
    }
   ],
   "source": [
    "print(net.state_dict())\n",
    "x = torch.randn(10,16)\n",
    "out = net(x)\n",
    "print(out)"
   ]
  },
  {
   "cell_type": "markdown",
   "metadata": {},
   "source": [
    "注意，只有具有可学习参数的层(卷积层、线性层等)才有`state_dict`中的条目。优化器(`optim`)也有一个`state_dict`，其中包含关于优化器状态以及所使用的超参数的信息。\n",
    "\n",
    "```python\n",
    "optimizer = torch.optim.SGD(net.parameters(), lr=0.001, momentum=0.9)\n",
    "optimizer.state_dict()\n",
    "```\n",
    "\n",
    "输出："
   ]
  },
  {
   "cell_type": "code",
   "execution_count": 9,
   "metadata": {},
   "outputs": [
    {
     "name": "stdout",
     "output_type": "stream",
     "text": [
      "{'state': {}, 'param_groups': [{'lr': 0.001, 'momentum': 0.9, 'dampening': 0, 'weight_decay': 0, 'nesterov': False, 'params': [2021893735192, 2021893735264, 2021893735408, 2021893735480, 2021893735552, 2021893735624]}]}\n"
     ]
    }
   ],
   "source": [
    "optimizer = torch.optim.SGD(net.parameters(), lr=0.001, momentum=0.9)\n",
    "print(optimizer.state_dict())"
   ]
  },
  {
   "cell_type": "markdown",
   "metadata": {},
   "source": [
    "##  保存和加载模型\n",
    "\n",
    "PyTorch中保存和加载训练模型有两种常见的方法:\n",
    "\n",
    "1. 仅保存和加载模型参数(`state_dict`)；\n",
    "2. 保存和加载整个模型。\n",
    "\n",
    "### 1. 保存和加载`state_dict`(推荐方式)"
   ]
  },
  {
   "cell_type": "code",
   "execution_count": 14,
   "metadata": {},
   "outputs": [],
   "source": [
    "torch.save(net.state_dict(), 'linear_net_state_dict.pt')"
   ]
  },
  {
   "cell_type": "code",
   "execution_count": 15,
   "metadata": {},
   "outputs": [
    {
     "name": "stdout",
     "output_type": "stream",
     "text": [
      "tensor([[ 0.0910],\n",
      "        [ 0.2001],\n",
      "        [ 0.3428],\n",
      "        [ 0.1315],\n",
      "        [-0.1897],\n",
      "        [ 0.0271],\n",
      "        [ 0.1569],\n",
      "        [ 0.1479],\n",
      "        [ 0.1182],\n",
      "        [ 0.2539]], grad_fn=<AddmmBackward>)\n"
     ]
    }
   ],
   "source": [
    "net2 = nn.Sequential(nn.Linear(16,8), nn.Linear(8,4), nn.Linear(4,1))\n",
    "net2.load_state_dict(torch.load('linear_net_state_dict.pt'))\n",
    "print(net2(x))"
   ]
  },
  {
   "cell_type": "markdown",
   "metadata": {},
   "source": [
    "## 2. 保存和加载整个模型\n",
    "\n",
    "这种方式应该是模型的结构，梯度等数据也都保存了。"
   ]
  },
  {
   "cell_type": "code",
   "execution_count": 17,
   "metadata": {},
   "outputs": [
    {
     "name": "stdout",
     "output_type": "stream",
     "text": [
      "tensor([[ 0.0910],\n",
      "        [ 0.2001],\n",
      "        [ 0.3428],\n",
      "        [ 0.1315],\n",
      "        [-0.1897],\n",
      "        [ 0.0271],\n",
      "        [ 0.1569],\n",
      "        [ 0.1479],\n",
      "        [ 0.1182],\n",
      "        [ 0.2539]], grad_fn=<AddmmBackward>)\n"
     ]
    }
   ],
   "source": [
    "torch.save(net2, 'linear_net_model.pt')\n",
    "\n",
    "#载入pt文件就载入了整个网络\n",
    "model = torch.load('linear_net_model.pt')\n",
    "print(model(x))"
   ]
  },
  {
   "cell_type": "markdown",
   "metadata": {},
   "source": [
    "因为这`net`和`net2`都有同样的模型参数，那么对同一个输入`X`的计算结果将会是一样的。上面的输出也验证了这一点。\n",
    "\n",
    "此外，还有一些其他使用场景，例如GPU与CPU之间的模型保存与读取、使用多块GPU的模型的存储等等，使用的时候可以参考[官方文档](https://pytorch.org/tutorials/beginner/saving_loading_models.html)。\n",
    "\n",
    "## 小结\n",
    "\n",
    "- 通过`save`函数和`load`函数可以很方便地读写`Tensor`。\n",
    "- 通过`save`函数和`load_state_dict`函数可以很方便地读写模型的参数。"
   ]
  },
  {
   "cell_type": "code",
   "execution_count": null,
   "metadata": {},
   "outputs": [],
   "source": []
  }
 ],
 "metadata": {
  "kernelspec": {
   "display_name": "Python 3",
   "language": "python",
   "name": "python3"
  },
  "language_info": {
   "codemirror_mode": {
    "name": "ipython",
    "version": 3
   },
   "file_extension": ".py",
   "mimetype": "text/x-python",
   "name": "python",
   "nbconvert_exporter": "python",
   "pygments_lexer": "ipython3",
   "version": "3.6.8"
  }
 },
 "nbformat": 4,
 "nbformat_minor": 2
}
