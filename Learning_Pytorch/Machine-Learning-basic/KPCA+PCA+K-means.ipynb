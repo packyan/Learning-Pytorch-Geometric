{
 "cells": [
  {
   "cell_type": "markdown",
   "metadata": {},
   "source": [
    "# PCA+K-means\n"
   ]
  },
  {
   "cell_type": "code",
   "execution_count": 1,
   "metadata": {},
   "outputs": [],
   "source": [
    "import pandas as pd\n",
    "import numpy as np\n",
    "data_feature = pd.read_csv('../Data/features.csv')\n"
   ]
  },
  {
   "cell_type": "code",
   "execution_count": 2,
   "metadata": {},
   "outputs": [
    {
     "data": {
      "text/html": [
       "<div>\n",
       "<style scoped>\n",
       "    .dataframe tbody tr th:only-of-type {\n",
       "        vertical-align: middle;\n",
       "    }\n",
       "\n",
       "    .dataframe tbody tr th {\n",
       "        vertical-align: top;\n",
       "    }\n",
       "\n",
       "    .dataframe thead th {\n",
       "        text-align: right;\n",
       "    }\n",
       "</style>\n",
       "<table border=\"1\" class=\"dataframe\">\n",
       "  <thead>\n",
       "    <tr style=\"text-align: right;\">\n",
       "      <th></th>\n",
       "      <th>1</th>\n",
       "      <th>2</th>\n",
       "      <th>3</th>\n",
       "      <th>4</th>\n",
       "      <th>5</th>\n",
       "      <th>6</th>\n",
       "      <th>7</th>\n",
       "      <th>8</th>\n",
       "      <th>9</th>\n",
       "      <th>10</th>\n",
       "      <th>11</th>\n",
       "      <th>12</th>\n",
       "      <th>13</th>\n",
       "      <th>14</th>\n",
       "      <th>15</th>\n",
       "    </tr>\n",
       "  </thead>\n",
       "  <tbody>\n",
       "    <tr>\n",
       "      <th>0</th>\n",
       "      <td>105</td>\n",
       "      <td>745.278374</td>\n",
       "      <td>19</td>\n",
       "      <td>38</td>\n",
       "      <td>26</td>\n",
       "      <td>22</td>\n",
       "      <td>57</td>\n",
       "      <td>25.552401</td>\n",
       "      <td>31.197699</td>\n",
       "      <td>17.231445</td>\n",
       "      <td>1.388890</td>\n",
       "      <td>0.548246</td>\n",
       "      <td>1.388890</td>\n",
       "      <td>0.630342</td>\n",
       "      <td>0.534947</td>\n",
       "    </tr>\n",
       "    <tr>\n",
       "      <th>1</th>\n",
       "      <td>183</td>\n",
       "      <td>609.722710</td>\n",
       "      <td>85</td>\n",
       "      <td>37</td>\n",
       "      <td>35</td>\n",
       "      <td>26</td>\n",
       "      <td>42</td>\n",
       "      <td>11.994545</td>\n",
       "      <td>22.397977</td>\n",
       "      <td>12.930285</td>\n",
       "      <td>4.444448</td>\n",
       "      <td>0.668169</td>\n",
       "      <td>1.944446</td>\n",
       "      <td>0.603175</td>\n",
       "      <td>0.536427</td>\n",
       "    </tr>\n",
       "    <tr>\n",
       "      <th>2</th>\n",
       "      <td>186</td>\n",
       "      <td>404.166990</td>\n",
       "      <td>141</td>\n",
       "      <td>18</td>\n",
       "      <td>9</td>\n",
       "      <td>18</td>\n",
       "      <td>40</td>\n",
       "      <td>7.822587</td>\n",
       "      <td>32.333359</td>\n",
       "      <td>14.435531</td>\n",
       "      <td>3.611114</td>\n",
       "      <td>0.617284</td>\n",
       "      <td>2.222224</td>\n",
       "      <td>0.833334</td>\n",
       "      <td>0.385836</td>\n",
       "    </tr>\n",
       "    <tr>\n",
       "      <th>3</th>\n",
       "      <td>97</td>\n",
       "      <td>313.055806</td>\n",
       "      <td>49</td>\n",
       "      <td>26</td>\n",
       "      <td>16</td>\n",
       "      <td>6</td>\n",
       "      <td>43</td>\n",
       "      <td>11.618566</td>\n",
       "      <td>23.479185</td>\n",
       "      <td>13.684270</td>\n",
       "      <td>4.444448</td>\n",
       "      <td>0.779915</td>\n",
       "      <td>2.222224</td>\n",
       "      <td>1.041667</td>\n",
       "      <td>0.773695</td>\n",
       "    </tr>\n",
       "    <tr>\n",
       "      <th>4</th>\n",
       "      <td>113</td>\n",
       "      <td>68.055610</td>\n",
       "      <td>97</td>\n",
       "      <td>4</td>\n",
       "      <td>5</td>\n",
       "      <td>7</td>\n",
       "      <td>17</td>\n",
       "      <td>2.168143</td>\n",
       "      <td>15.312512</td>\n",
       "      <td>5.404863</td>\n",
       "      <td>4.166670</td>\n",
       "      <td>1.388890</td>\n",
       "      <td>0.555556</td>\n",
       "      <td>0.388889</td>\n",
       "      <td>0.414367</td>\n",
       "    </tr>\n",
       "  </tbody>\n",
       "</table>\n",
       "</div>"
      ],
      "text/plain": [
       "     1           2    3   4   5   6   7          8          9         10  \\\n",
       "0  105  745.278374   19  38  26  22  57  25.552401  31.197699  17.231445   \n",
       "1  183  609.722710   85  37  35  26  42  11.994545  22.397977  12.930285   \n",
       "2  186  404.166990  141  18   9  18  40   7.822587  32.333359  14.435531   \n",
       "3   97  313.055806   49  26  16   6  43  11.618566  23.479185  13.684270   \n",
       "4  113   68.055610   97   4   5   7  17   2.168143  15.312512   5.404863   \n",
       "\n",
       "         11        12        13        14        15  \n",
       "0  1.388890  0.548246  1.388890  0.630342  0.534947  \n",
       "1  4.444448  0.668169  1.944446  0.603175  0.536427  \n",
       "2  3.611114  0.617284  2.222224  0.833334  0.385836  \n",
       "3  4.444448  0.779915  2.222224  1.041667  0.773695  \n",
       "4  4.166670  1.388890  0.555556  0.388889  0.414367  "
      ]
     },
     "execution_count": 2,
     "metadata": {},
     "output_type": "execute_result"
    }
   ],
   "source": [
    "data_feature.head()"
   ]
  },
  {
   "cell_type": "code",
   "execution_count": 3,
   "metadata": {},
   "outputs": [],
   "source": [
    "np_data = data_feature.values"
   ]
  },
  {
   "cell_type": "code",
   "execution_count": 4,
   "metadata": {},
   "outputs": [
    {
     "data": {
      "text/plain": [
       "array([[1.05000000e+02, 7.45278374e+02, 1.90000000e+01, ...,\n",
       "        1.38889000e+00, 6.30342385e-01, 5.34947196e-01],\n",
       "       [1.83000000e+02, 6.09722710e+02, 8.50000000e+01, ...,\n",
       "        1.94444600e+00, 6.03175086e-01, 5.36426773e-01],\n",
       "       [1.86000000e+02, 4.04166990e+02, 1.41000000e+02, ...,\n",
       "        2.22222400e+00, 8.33334000e-01, 3.85836324e-01],\n",
       "       ...,\n",
       "       [2.50000000e+02, 5.75000460e+02, 1.36000000e+02, ...,\n",
       "        1.11111200e+00, 4.23976947e-01, 1.81603803e-01],\n",
       "       [1.95000000e+02, 6.02222704e+02, 1.17000000e+02, ...,\n",
       "        1.38889000e+00, 6.77083875e-01, 3.63775285e-01],\n",
       "       [7.38000000e+02, 1.05064460e+04, 5.10000000e+01, ...,\n",
       "        1.50767121e+01, 4.83671928e-01, 6.50210370e-01]])"
      ]
     },
     "execution_count": 4,
     "metadata": {},
     "output_type": "execute_result"
    }
   ],
   "source": [
    "np_data"
   ]
  },
  {
   "cell_type": "code",
   "execution_count": 5,
   "metadata": {},
   "outputs": [],
   "source": [
    "def NormalizedStd(data):\n",
    "    data_mean = np.mean(data, axis = 0)\n",
    "    data_std = np.std(data, axis = 0)\n",
    "    return (data - data_mean) / data_std\n",
    "np_data = NormalizedStd(np_data)"
   ]
  },
  {
   "cell_type": "code",
   "execution_count": 6,
   "metadata": {},
   "outputs": [
    {
     "data": {
      "text/plain": [
       "array([[-4.29009892e-01, -1.80800110e-01, -6.31137352e-01, ...,\n",
       "        -4.52051200e-02, -5.86306433e-02, -4.01335711e-02],\n",
       "       [-5.94076004e-02, -2.05517133e-01,  3.65284706e-01, ...,\n",
       "        -3.86496373e-02, -8.99769374e-02, -3.99202905e-02],\n",
       "       [-4.51921276e-02, -2.42997865e-01,  1.21073373e+00, ...,\n",
       "        -3.53718960e-02,  1.75586047e-01, -6.16278644e-02],\n",
       "       ...,\n",
       "       [ 2.58071291e-01, -2.11848338e-01,  1.13524721e+00, ...,\n",
       "        -4.84828613e-02, -2.96740134e-01, -9.10679291e-02],\n",
       "       [-2.54570940e-03, -2.06884673e-01,  8.48398431e-01, ...,\n",
       "        -4.52051200e-02, -4.69916875e-03, -6.48079575e-02],\n",
       "       [ 2.57045486e+00,  1.59903706e+00, -1.48023627e-01, ...,\n",
       "         1.16309255e-01, -2.27862604e-01, -2.35184147e-02]])"
      ]
     },
     "execution_count": 6,
     "metadata": {},
     "output_type": "execute_result"
    }
   ],
   "source": [
    "np_data"
   ]
  },
  {
   "cell_type": "markdown",
   "metadata": {},
   "source": [
    "## PCA 降维"
   ]
  },
  {
   "cell_type": "code",
   "execution_count": 7,
   "metadata": {},
   "outputs": [
    {
     "name": "stdout",
     "output_type": "stream",
     "text": [
      "[0.59858235 0.27856848 0.07460846 0.02038413]\n",
      "[8.9897117  4.18363539 1.12049498 0.30613573]\n",
      "(819, 4)\n"
     ]
    }
   ],
   "source": [
    "\n",
    "from sklearn.decomposition import PCA\n",
    "\n",
    "#保留多少个维度\n",
    "pca = PCA(n_components=4)\n",
    "np_data_3d = pca.fit(np_data)\n",
    "\n",
    "#返回所保留的n个成分各自的方差百分比\n",
    "print(pca.explained_variance_ratio_)\n",
    "print(pca.explained_variance_)\n",
    "\n",
    "data_new_3d = pca.transform(np_data)\n",
    "\n",
    "print(data_new_3d.shape)\n",
    "\n"
   ]
  },
  {
   "cell_type": "code",
   "execution_count": 8,
   "metadata": {},
   "outputs": [],
   "source": [
    "from sklearn.cluster import KMeans\n",
    "\n",
    "## k-means++ \n",
    "y_pred = KMeans(n_clusters=4, random_state=9).fit_predict(data_new_3d)\n",
    "\n",
    "# plt.scatter(X[:, 0], X[:, 1], c=y_pred)\n",
    "\n",
    "# plt.show()\n"
   ]
  },
  {
   "cell_type": "code",
   "execution_count": 9,
   "metadata": {},
   "outputs": [],
   "source": [
    "def draw_Point_Cloud(Points, Lables, axis = True, **kags):\n",
    "    %matplotlib inline\n",
    "    import matplotlib.pyplot as plt\n",
    "    from mpl_toolkits.mplot3d import Axes3D \n",
    "    x_axis = Points[:,0]\n",
    "    y_axis = Points[:,1]\n",
    "    z_axis = Points[:,2]\n",
    "    fig = plt.figure() \n",
    "    ax = Axes3D(fig) \n",
    "\n",
    "    ax.scatter(x_axis, y_axis, z_axis, c = Lables)\n",
    "    # 设置坐标轴显示以及旋转角度\n",
    "    ax.set_xlabel('x') \n",
    "    ax.set_ylabel('y')\n",
    "    ax.set_zlabel('z')\n",
    "    ax.view_init(elev=10,azim=235)\n",
    "    if not axis:\n",
    "        #关闭显示坐标轴\n",
    "        plt.axis('off')\n",
    "    \n",
    "    plt.show()"
   ]
  },
  {
   "cell_type": "markdown",
   "metadata": {},
   "source": [
    "用普通的PCA降维，可以看出点与点之间没有明显地区分开来，数据在降维后的空间中，还是线性不可分的。\n"
   ]
  },
  {
   "cell_type": "code",
   "execution_count": 10,
   "metadata": {},
   "outputs": [
    {
     "data": {
      "image/png": "[encoded data removed]",
      "text/plain": [
       "<Figure size 432x288 with 1 Axes>"
      ]
     },
     "metadata": {
      "needs_background": "light"
     },
     "output_type": "display_data"
    }
   ],
   "source": [
    "draw_Point_Cloud(data_new_3d, y_pred)"
   ]
  },
  {
   "cell_type": "markdown",
   "metadata": {},
   "source": [
    "## 核方法 核PCA\n",
    "运行[文件](PCA-Kmeans.py)可以查看可交互结果。\n",
    "\n",
    "原理分析https://zhuanlan.zhihu.com/p/59775730"
   ]
  },
  {
   "cell_type": "code",
   "execution_count": 11,
   "metadata": {},
   "outputs": [],
   "source": [
    "from scipy.spatial.distance import pdist, squareform\n",
    "from scipy import exp\n",
    "from scipy.linalg import eigh\n",
    "import numpy as np\n",
    "#未测试 https://blog.csdn.net/ChenVast/article/details/79236160\n",
    "def rbf_kernel_pca(X, gamma, n_components):\n",
    "    \"\"\"\n",
    "    RBF kernel PCA 实现.\n",
    "    Parameters\n",
    "    ------------\n",
    "    X: {NumPy ndarray}, shape = [n_samples, n_features]\n",
    "        \n",
    "    gamma: float\n",
    "      RBF核的调优参数\n",
    "        \n",
    "    n_components: int\n",
    "      要返回的主要组件的数量\n",
    "    Returns\n",
    "    ------------\n",
    "     X_pc: {NumPy ndarray}, shape = [n_samples, k_features]\n",
    "       Projected dataset   \n",
    "    \"\"\"\n",
    "    # 计算成对的欧几里得距离。\n",
    "    #在MxN维数据集中\n",
    "    sq_dists = pdist(X, 'sqeuclidean')\n",
    " \n",
    "    # 将成对距离转换成方阵。\n",
    "    mat_sq_dists = squareform(sq_dists)\n",
    " \n",
    "    # 计算对称核矩阵。\n",
    "    K = exp(-gamma * mat_sq_dists)\n",
    " \n",
    "    # 中心核矩阵.\n",
    "    N = K.shape[0]\n",
    "    one_n = np.ones((N,N)) / N\n",
    "    K = K - one_n.dot(K) - K.dot(one_n) + one_n.dot(K).dot(one_n)\n",
    " \n",
    "    # 从中心核矩阵得到特征对。\n",
    "    # numpy.eigh 按顺序返回它们\n",
    "    eigvals, eigvecs = eigh(K)\n",
    " \n",
    "    #收集顶级k特征向量(投影样本)\n",
    "    X_pc = np.column_stack((eigvecs[:, -i]\n",
    "                            for i in range(1, n_components + 1)))\n",
    " \n",
    "    return X_pc"
   ]
  },
  {
   "cell_type": "code",
   "execution_count": 12,
   "metadata": {},
   "outputs": [
    {
     "name": "stdout",
     "output_type": "stream",
     "text": [
      "(819, 6)\n"
     ]
    },
    {
     "data": {
      "image/png": "[encoded data removed]",
      "text/plain": [
       "<Figure size 432x288 with 1 Axes>"
      ]
     },
     "metadata": {
      "needs_background": "light"
     },
     "output_type": "display_data"
    }
   ],
   "source": [
    "from sklearn.cluster import DBSCAN\n",
    "\n",
    "from sklearn.decomposition import KernelPCA\n",
    "\n",
    "pca = KernelPCA(n_components=6,kernel='rbf',gamma=15)\n",
    "np_data_3d = pca.fit(np_data)\n",
    "\n",
    "\n",
    "\n",
    "data_new_3d = pca.transform(np_data)\n",
    "\n",
    "#显示处理后数据大小\n",
    "print(data_new_3d.shape)\n",
    "\n",
    "## k-means++ \n",
    "y_pred = KMeans(n_clusters=3, random_state=9).fit_predict(data_new_3d)\n",
    "draw_Point_Cloud(data_new_3d, y_pred)"
   ]
  },
  {
   "cell_type": "code",
   "execution_count": 13,
   "metadata": {},
   "outputs": [
    {
     "data": {
      "text/plain": [
       "numpy.ndarray"
      ]
     },
     "execution_count": 13,
     "metadata": {},
     "output_type": "execute_result"
    }
   ],
   "source": [
    "type(data_new_3d)"
   ]
  },
  {
   "cell_type": "code",
   "execution_count": 16,
   "metadata": {},
   "outputs": [],
   "source": [
    "import h5py\n",
    "with h5py.File('..\\Data\\\\3d_scatter_data.h5','w') as f:\n",
    "    f.create_dataset('data', data = data_new_3d)\n",
    "    f.create_dataset('label', data = y_pred)\n"
   ]
  },
  {
   "cell_type": "code",
   "execution_count": null,
   "metadata": {},
   "outputs": [],
   "source": []
  }
 ],
 "metadata": {
  "kernelspec": {
   "display_name": "Python 3",
   "language": "python",
   "name": "python3"
  },
  "language_info": {
   "codemirror_mode": {
    "name": "ipython",
    "version": 3
   },
   "file_extension": ".py",
   "mimetype": "text/x-python",
   "name": "python",
   "nbconvert_exporter": "python",
   "pygments_lexer": "ipython3",
   "version": "3.6.8"
  }
 },
 "nbformat": 4,
 "nbformat_minor": 2
}
