{
 "cells": [
  {
   "cell_type": "markdown",
   "metadata": {},
   "source": [
    "# 数据预处理\n",
    "\n",
    "## 从off文件，均匀采样N个点，形成点云数据\n",
    "\n",
    "## 采样后的点云数据， 进行归一化，中心化\n",
    "从 stanford 获取的 modelnet40_ply_hdf5_2048，可视化为： \n",
    "![d](imgs/ply_h5.png)\n",
    "\n",
    "直接将原始的off文件，进行均匀采样，得到的点云数据可视化为：\n",
    "![dd](imgs/off_raw.png)\n",
    "进行数据的归一化，中心化，得到的数据为:\n",
    "![ddd](imgs/off_h5.png)\n",
    "### 这里最大最小值归一化，若max = min ,会出现除以0的情况\n",
    "$$ \n",
    "\\hat{x} = \\frac {x - x_{min}} {x_{max} - x_{min}} \n",
    "$$\n",
    "这里设置一个$$\n",
    "{x_{max} - x_{min}} < 1^{-5} = 1^{-5}\n",
    "$$\n",
    "为了不让出现nan数据的情况。归一化之后再做中心化\n",
    "$$\n",
    "x-x_{mean}\n",
    "$$\n",
    "得到一个，点云的原点在点云的质心，而且点云数据的大小为[0,1]\n",
    "如果不做这个处理，训练起来收敛慢，而且准确率比较低，难提高。\n",
    "\n",
    "\n",
    "## 对数据集中的点云数据，使用h5文件格式存储\n",
    "\n",
    "## 对训练集进行Shuffle 很重要， 不然读取到的都是一个类别的数据，难训练\n",
    "\n"
   ]
  },
  {
   "cell_type": "markdown",
   "metadata": {},
   "source": [
    "### 为for循环加进度条"
   ]
  },
  {
   "cell_type": "code",
   "execution_count": 2,
   "metadata": {},
   "outputs": [
    {
     "name": "stderr",
     "output_type": "stream",
     "text": [
      "100%|██████████████████████████████████████████████████████████████████████████████| 1000/1000 [01:41<00:00,  9.83it/s]\n"
     ]
    }
   ],
   "source": [
    "from tqdm import tqdm\n",
    "import time\n",
    "for i in tqdm(range(1000)):\n",
    "    time.sleep(0.1)\n",
    "    pass"
   ]
  },
  {
   "cell_type": "markdown",
   "metadata": {},
   "source": [
    "![](https://img-blog.csdn.net/20180218151428503?watermark/2/text/aHR0cDovL2Jsb2cuY3Nkbi5uZXQvcXFfNDA2NjYwMjg=/font/5a6L5L2T/fontsize/400/fill/I0JBQkFCMA==/dissolve/70)\n",
    "https://blog.csdn.net/qq_40666028/article/details/79335961"
   ]
  },
  {
   "cell_type": "code",
   "execution_count": 18,
   "metadata": {},
   "outputs": [],
   "source": [
    "with open('data/data.txt') as f:\n",
    "    content = f.readlines()\n",
    "acc =[]\n",
    "for line in content:\n",
    "    ele = line.replace('\\n', '').replace(' ','').split(',')\n",
    "    temp = []\n",
    "    for num in ele:\n",
    "        x = num.split(':')\n",
    "        if len(x) > 1:\n",
    "            temp.append(float(x[1]))\n",
    "    acc.append(temp)\n",
    "#print(acc)\n",
    "import numpy as np\n",
    "data = np.array(acc)\n"
   ]
  },
  {
   "cell_type": "code",
   "execution_count": 19,
   "metadata": {},
   "outputs": [
    {
     "name": "stdout",
     "output_type": "stream",
     "text": [
      "[0.429849 0.559789 0.597582 0.620035 0.645636 0.658641 0.668902 0.674896\n",
      " 0.689018 0.689627 0.698568 0.701006 0.708219 0.711064 0.719394 0.714112\n",
      " 0.721731 0.722747 0.725287 0.74459  0.755156]\n"
     ]
    }
   ],
   "source": [
    "with open('data/data_submean.txt') as f:\n",
    "    content = f.readlines()\n",
    "acc =[]\n",
    "for line in content:\n",
    "    ele = line.replace('\\n', '').replace(' ','').split(',')\n",
    "    temp = []\n",
    "    for num in ele:\n",
    "        x = num.split(':')\n",
    "        if len(x) > 1:\n",
    "            temp.append(float(x[1]))\n",
    "    acc.append(temp)\n",
    "#print(acc)\n",
    "data2 = np.array(acc)\n",
    "print(data2[:,1])"
   ]
  },
  {
   "cell_type": "code",
   "execution_count": 84,
   "metadata": {},
   "outputs": [],
   "source": [
    "%matplotlib inline\n",
    "def plotxy(x_vals, y_vals, x_label, y_label, x2_vals=None, y2_vals=None,\n",
    "             legend=None,title = None, figsize=(3.5, 2.5)):\n",
    "    import matplotlib.pyplot as plt\n",
    "    plt.figure.figsize= figsize\n",
    "    plt.xlabel(x_label)\n",
    "    plt.ylabel(y_label)\n",
    "    plt.plot(x_vals,y_vals)\n",
    "#     if x2_vals.any():\n",
    "#         plt.plot(x2_vals, y2_vals, linestyle=':')\n",
    "#         plt.legend(legend)\n",
    "\n",
    "def plotXY(x,y,x2 = None ,y2=None,xlabel = 'Epochs', ylabel = 'Acc',\n",
    "           legend=None,title = None, figsize=(3.5, 2.5)):\n",
    "    \n",
    "    import matplotlib\n",
    "    import matplotlib.pyplot as plt\n",
    "    import numpy as np\n",
    "      # # 设置xtick和ytick的方向：in、out、inout\n",
    "    matplotlib.rcParams['xtick.direction'] = 'in'\n",
    "    matplotlib.rcParams['ytick.direction'] = 'in'\n",
    "    plt.figure.figsize= figsize\n",
    "    #取消图例的外边框\n",
    "\n",
    "    fig,ax = plt.subplots()\n",
    "\n",
    "\n",
    "    plt.xlabel(xlabel)\n",
    "    plt.ylabel(ylabel)\n",
    "\n",
    "    #边框\n",
    "    ax.spines['top'].set_visible(False)\n",
    "    ax.spines['right'].set_visible(False)\n",
    "    if title:\n",
    "        ax.set_title(title ,fontsize=12,color='r')\n",
    "    #步长\n",
    "    yticks = np.arange(0, 1, 0.1)\n",
    "    ax.set_yticks(yticks)\n",
    "    #xticks = range(0,501,100)\n",
    "    #ax.set_xticks(xticks)\n",
    "\n",
    "  \n",
    "\n",
    "    #限幅\n",
    "\n",
    "    \"\"\"set min and max value for axes\"\"\"\n",
    "    #ax.set_ylim([0,9000])\n",
    "    #ax.set_xlim([0,500])\n",
    "\n",
    "#     x = data[:,0]\n",
    "#     old = data[:,1]\n",
    "#     new = data [:,2]\n",
    "    #label=\"Old stratedy\"\n",
    "    #label=\"New strategy\"\n",
    "    line1 = plt.plot(x,y) #label=\"Old strategy\"\n",
    "    if x2:\n",
    "        line2 = plt.plot(x2,y2)\n",
    "        #plt.legend([line1, line2], ['1', '2'], loc='upper left',frameon=False)\n",
    "\n",
    "\n",
    "    \"\"\"open the grid\"\"\"\n",
    "    plt.grid(False)\n",
    "    #图例的位置，不显示边框\n",
    "    #plt.legend(loc='upper left',frameon=False)\n",
    "    #plt.legend(bbox_to_anchor=(1.0, 1), loc=1, borderaxespad=0.)\n",
    "\n",
    "    plt.show()\n",
    "\n",
    "#*Data 可变对象\n",
    "import matplotlib\n",
    "import matplotlib.pyplot as plt\n",
    "import numpy as np\n",
    "def plot_Lines(*Data,label, xlabel = 'Epochs', ylabel = 'Acc',\n",
    "           legend=None,title = None, figsize=(3.5, 2.5)):\n",
    "    \n",
    "\n",
    "      # # 设置xtick和ytick的方向：in、out、inout\n",
    "    matplotlib.rcParams['xtick.direction'] = 'in'\n",
    "    matplotlib.rcParams['ytick.direction'] = 'in'\n",
    "    \n",
    "  \n",
    "    #取消图例的外边框\n",
    "    \n",
    "    \n",
    "    fig,ax = plt.subplots(figsize = figsize)\n",
    "    plt.xlabel(xlabel)\n",
    "    plt.ylabel(ylabel)\n",
    "    \n",
    "    #边框\n",
    "    ax.spines['top'].set_visible(False)\n",
    "    ax.spines['right'].set_visible(False)\n",
    "    if title:\n",
    "        ax.set_title(title ,fontsize=12,color='r')\n",
    "    #步长\n",
    "    yticks = np.arange(0, 1, 0.1)\n",
    "    ax.set_yticks(yticks)\n",
    "    #xticks = range(0,501,100)\n",
    "    #ax.set_xticks(xticks)\n",
    "\n",
    "  \n",
    "\n",
    "    #限幅\n",
    "\n",
    "    \"\"\"set min and max value for axes\"\"\"\n",
    "    #ax.set_ylim([0,9000])\n",
    "    #ax.set_xlim([0,500])\n",
    "\n",
    "#     x = data[:,0]\n",
    "#     old = data[:,1]\n",
    "#     new = data [:,2]\n",
    "    #label=\"Old stratedy\"\n",
    "    #label=\"New strategy\"\n",
    "    lines = []\n",
    "    for i, data in enumerate(Data):\n",
    "        print(label[i])\n",
    "        line = plt.plot(data[0],data[1], label=label[i])\n",
    "        #lines.append(line)\n",
    "        \n",
    "    #plt.legend(lines, list(map(lambda x : str(x), range(len(lines)))), loc='upper left',frameon=False)\n",
    "\n",
    "\n",
    "    \"\"\"open the grid\"\"\"\n",
    "    plt.grid(False)\n",
    "    #图例的位置，不显示边框\n",
    "    plt.legend(loc='upper right',frameon=False)\n",
    "    plt.legend(bbox_to_anchor=(1.0, 0.9), loc=1, borderaxespad=0.)\n",
    "\n",
    "    plt.show()"
   ]
  },
  {
   "cell_type": "code",
   "execution_count": 80,
   "metadata": {},
   "outputs": [
    {
     "data": {
      "image/png": "[encoded data removed]",
      "text/plain": [
       "<Figure size 432x288 with 1 Axes>"
      ]
     },
     "metadata": {
      "needs_background": "light"
     },
     "output_type": "display_data"
    }
   ],
   "source": [
    "plotXY(range(0,data[:,1].shape[0]), data[:,1], range(data2[:,1].shape[0]), data2[:,1])\n"
   ]
  },
  {
   "cell_type": "code",
   "execution_count": 85,
   "metadata": {},
   "outputs": [
    {
     "name": "stdout",
     "output_type": "stream",
     "text": [
      "sub_mean_data_PointNet\n",
      "min_max_sub_min_PointNet\n",
      "DGCNN\n"
     ]
    },
    {
     "data": {
      "image/png": "[encoded data removed]",
      "text/plain": [
       "<Figure size 720x432 with 1 Axes>"
      ]
     },
     "metadata": {
      "needs_background": "light"
     },
     "output_type": "display_data"
    }
   ],
   "source": [
    "data_lines = [(list(range(0,data[:,1].shape[0])), data[:,1]), (list(range(data2[:,1].shape[0])), data2[:,1]),(list(range(data3[:,1].shape[0])), data3[:,1])]\n",
    "label = [\"sub_mean_data_PointNet\",\"min_max_sub_min_PointNet\",\"DGCNN\"]\n",
    "plot_Lines(*data_lines,label = label,figsize = (10,6))"
   ]
  },
  {
   "cell_type": "code",
   "execution_count": 36,
   "metadata": {},
   "outputs": [
    {
     "name": "stdout",
     "output_type": "stream",
     "text": [
      "[0.450777 0.647465 0.707711 0.742761 0.751092 0.773341 0.777608 0.79173\n",
      " 0.79488  0.802906 0.814589 0.818754 0.823631 0.828508 0.836534 0.835822\n",
      " 0.837956 0.840597 0.843747 0.860916 0.874733 0.876664 0.879915 0.878696\n",
      " 0.884588 0.8917   0.88408  0.889566 0.889769 0.888245 0.894849 0.890684\n",
      " 0.893732 0.896779 0.897592 0.900335 0.903586 0.899827 0.898811 0.914254\n",
      " 0.918724 0.917302 0.92482  0.921873 0.927258 0.926852 0.926445 0.934166\n",
      " 0.929595 0.927258 0.926953 0.933354 0.932236 0.932033 0.933252 0.935284\n",
      " 0.936605 0.93823  0.939754 0.942192 0.944529 0.946459 0.949202 0.946561\n",
      " 0.952047 0.951844 0.949812 0.950625 0.95032  0.952555 0.953673 0.95479\n",
      " 0.95225  0.95286  0.955908 0.957838 0.955806 0.956416 0.957736 0.959972]\n"
     ]
    }
   ],
   "source": [
    "import numpy as np\n",
    "with open('data/data_dgcnn.txt') as f:\n",
    "    content = f.readlines()\n",
    "acc =[]\n",
    "for line in content:\n",
    "    ele = line.replace('\\n', '').replace(' ','').split(',')\n",
    "    temp = []\n",
    "    for num in ele:\n",
    "        x = num.split(':')\n",
    "        if len(x) > 1:\n",
    "            temp.append(float(x[1]))\n",
    "    acc.append(temp)\n",
    "#print(acc)\n",
    "data3 = np.array(acc)\n",
    "print(data3[:,1])"
   ]
  },
  {
   "cell_type": "markdown",
   "metadata": {},
   "source": [
    "# DGCNN\n",
    "## acc 比较高，但是训练时间非常长\n",
    "### 一个Epoch 11分钟\n"
   ]
  },
  {
   "cell_type": "markdown",
   "metadata": {},
   "source": [
    "## "
   ]
  },
  {
   "cell_type": "code",
   "execution_count": 15,
   "metadata": {},
   "outputs": [
    {
     "name": "stdout",
     "output_type": "stream",
     "text": [
      "['Train 1', ' loss: 2.216696', ' train acc: 0.624593', ' train avg acc: 0.463335\\n']\n"
     ]
    }
   ],
   "source": [
    "print(content[1].split(','))"
   ]
  },
  {
   "cell_type": "code",
   "execution_count": null,
   "metadata": {},
   "outputs": [],
   "source": []
  }
 ],
 "metadata": {
  "kernelspec": {
   "display_name": "Python 3",
   "language": "python",
   "name": "python3"
  },
  "language_info": {
   "codemirror_mode": {
    "name": "ipython",
    "version": 3
   },
   "file_extension": ".py",
   "mimetype": "text/x-python",
   "name": "python",
   "nbconvert_exporter": "python",
   "pygments_lexer": "ipython3",
   "version": "3.6.8"
  }
 },
 "nbformat": 4,
 "nbformat_minor": 2
}
